{
 "cells": [
  {
   "cell_type": "code",
   "execution_count": 18,
   "id": "912d28ad-7827-4f3b-8541-92cfbeeb283b",
   "metadata": {},
   "outputs": [
    {
     "name": "stdout",
     "output_type": "stream",
     "text": [
      "Defaulting to user installation because normal site-packages is not writeableNote: you may need to restart the kernel to use updated packages.\n",
      "\n",
      "Requirement already satisfied: pandas in c:\\programdata\\anaconda3\\lib\\site-packages (2.2.3)\n",
      "Requirement already satisfied: scikit-learn in c:\\programdata\\anaconda3\\lib\\site-packages (1.6.1)\n",
      "Requirement already satisfied: matplotlib in c:\\programdata\\anaconda3\\lib\\site-packages (3.10.0)\n",
      "Requirement already satisfied: numpy in c:\\programdata\\anaconda3\\lib\\site-packages (2.1.3)\n",
      "Requirement already satisfied: python-dateutil>=2.8.2 in c:\\programdata\\anaconda3\\lib\\site-packages (from pandas) (2.9.0.post0)\n",
      "Requirement already satisfied: pytz>=2020.1 in c:\\programdata\\anaconda3\\lib\\site-packages (from pandas) (2024.1)\n",
      "Requirement already satisfied: tzdata>=2022.7 in c:\\programdata\\anaconda3\\lib\\site-packages (from pandas) (2025.2)\n",
      "Requirement already satisfied: scipy>=1.6.0 in c:\\programdata\\anaconda3\\lib\\site-packages (from scikit-learn) (1.15.3)\n",
      "Requirement already satisfied: joblib>=1.2.0 in c:\\programdata\\anaconda3\\lib\\site-packages (from scikit-learn) (1.4.2)\n",
      "Requirement already satisfied: threadpoolctl>=3.1.0 in c:\\programdata\\anaconda3\\lib\\site-packages (from scikit-learn) (3.5.0)\n",
      "Requirement already satisfied: contourpy>=1.0.1 in c:\\programdata\\anaconda3\\lib\\site-packages (from matplotlib) (1.3.1)\n",
      "Requirement already satisfied: cycler>=0.10 in c:\\programdata\\anaconda3\\lib\\site-packages (from matplotlib) (0.11.0)\n",
      "Requirement already satisfied: fonttools>=4.22.0 in c:\\programdata\\anaconda3\\lib\\site-packages (from matplotlib) (4.55.3)\n",
      "Requirement already satisfied: kiwisolver>=1.3.1 in c:\\programdata\\anaconda3\\lib\\site-packages (from matplotlib) (1.4.8)\n",
      "Requirement already satisfied: packaging>=20.0 in c:\\programdata\\anaconda3\\lib\\site-packages (from matplotlib) (24.2)\n",
      "Requirement already satisfied: pillow>=8 in c:\\programdata\\anaconda3\\lib\\site-packages (from matplotlib) (11.1.0)\n",
      "Requirement already satisfied: pyparsing>=2.3.1 in c:\\programdata\\anaconda3\\lib\\site-packages (from matplotlib) (3.2.0)\n",
      "Requirement already satisfied: six>=1.5 in c:\\programdata\\anaconda3\\lib\\site-packages (from python-dateutil>=2.8.2->pandas) (1.17.0)\n"
     ]
    }
   ],
   "source": [
    "pip install pandas scikit-learn matplotlib numpy"
   ]
  },
  {
   "cell_type": "code",
   "execution_count": 8,
   "id": "f670d85c-78a4-4205-9374-4e7f520f93d5",
   "metadata": {},
   "outputs": [],
   "source": []
  },
  {
   "cell_type": "code",
   "execution_count": 23,
   "id": "7e7895bb-dc92-4893-8c9d-677ecce9bc35",
   "metadata": {},
   "outputs": [
    {
     "data": {
      "image/png": "[encoded data removed]",
      "text/plain": [
       "<Figure size 640x480 with 1 Axes>"
      ]
     },
     "metadata": {},
     "output_type": "display_data"
    }
   ],
   "source": [
    "import pandas as pd\n",
    "import matplotlib.pyplot as plt\n",
    "import numpy as np\n",
    "\n",
    "df = pd.read_csv(r\"C:\\Users\\singh\\Downloads\\Task 3 and 4_Loan_Data.csv\")\n",
    "fico = df['fico_score']\n",
    "\n",
    "#max fico score 850 and min is 408\n",
    "#mean is 638\n",
    "\n",
    "#buckets that go in increments of 50\n",
    "bins = [300, 579, 669, 739, 800, 850]\n",
    "bin_names = ['Poor', 'Fair', 'Good', 'Very Good', 'Excellent']\n",
    "\n",
    "midpoints = []\n",
    "for i in range(len(bins) - 1):\n",
    "    midpoints.append(((bins[i] + bins[i+1]) / 2))\n",
    "\n",
    "plt.hist(fico, bins=bins, rwidth = 0.8)\n",
    "plt.xticks(midpoints, labels = bin_names, rotation = 90)\n",
    "\n",
    "poor = []\n",
    "fair = []\n",
    "good = []\n",
    "very_good = []\n",
    "excellent = []\n",
    "\n",
    "for i in  fico:\n",
    "    if i < 579:\n",
    "        poor.append(i)\n",
    "    elif i >= 579 and i < 669:\n",
    "        fair.append(i)\n",
    "    elif i >= 669 and i < 739:\n",
    "        good.append(i)\n",
    "    elif i >= 739 and i < 800:\n",
    "        very_good.append(i)\n",
    "    else:\n",
    "        excellent.append(i)"
   ]
  },
  {
   "cell_type": "code",
   "execution_count": 22,
   "id": "45a16554-7e67-43bb-81f2-ef9b4754a063",
   "metadata": {},
   "outputs": [],
   "source": [
    "warnings.filterwarnings(\"ignore\", category=UserWarning)"
   ]
  },
  {
   "cell_type": "code",
   "execution_count": 12,
   "id": "06980b31-20b8-4517-b97f-2acdabf47e59",
   "metadata": {},
   "outputs": [],
   "source": []
  },
  {
   "cell_type": "code",
   "execution_count": 13,
   "id": "04b279a4-10eb-4de1-b0a3-b79c20778222",
   "metadata": {},
   "outputs": [],
   "source": []
  },
  {
   "cell_type": "code",
   "execution_count": 20,
   "id": "7eb03ea9-3d8a-420a-9600-fa716e46ff95",
   "metadata": {},
   "outputs": [],
   "source": [
    "#mean squared error\n",
    "mse_poor = 0\n",
    "mean_poor = np.mean(poor)\n",
    "\n",
    "for i in poor:\n",
    "    mse_poor += (i - mean_poor)**2\n",
    "\n",
    "mse_poor = mse_poor/len(poor)\n",
    "\n",
    "\n",
    "mse_fair = 0\n",
    "mean_fair = np.mean(fair)\n",
    "\n",
    "for i in fair:\n",
    "    mse_fair += (i - mean_fair)**2\n",
    "\n",
    "mse_fair = mse_fair/len(fair)\n",
    "\n",
    "\n",
    "mse_good = 0\n",
    "mean_good = np.mean(good)\n",
    "\n",
    "for i in good:\n",
    "    mse_good += (i - mean_good)**2\n",
    "\n",
    "mse_good = mse_good/len(good)\n",
    "\n",
    "\n",
    "mse_very_good = 0\n",
    "mean_very_good = np.mean(very_good)\n",
    "\n",
    "for i in very_good:\n",
    "    mse_very_good += (i - mean_very_good)**2\n",
    "\n",
    "mse_very_good = mse_very_good/len(very_good)\n",
    "\n",
    "\n",
    "mse_excellent = 0\n",
    "mean_excellent = np.mean(excellent)\n",
    "\n",
    "for i in excellent:\n",
    "    mse_excellent += (i - mean_excellent)**2\n",
    "\n",
    "mse_excellent = mse_excellent/len(excellent)"
   ]
  },
  {
   "cell_type": "code",
   "execution_count": 21,
   "id": "28bfcba6-b470-4357-a3c1-6a490dadc3b8",
   "metadata": {},
   "outputs": [
    {
     "name": "stdin",
     "output_type": "stream",
     "text": [
      "Enter your fico score to get a rating:  400\n"
     ]
    },
    {
     "name": "stdout",
     "output_type": "stream",
     "text": [
      "Your rating is 838.1496751715999\n"
     ]
    }
   ],
   "source": [
    "fico_check = int(input(\"Enter your fico score to get a rating: \"))\n",
    "\n",
    "if fico_check < 579:\n",
    "    print(\"Your rating is \" + str(mse_poor))\n",
    "elif fico_check >= 579 and fico_check < 669:\n",
    "    print(\"Your rating is \" + str(mse_fair))\n",
    "elif fico_check >= 669 and fico_check < 739:\n",
    "    print(\"Your rating is \" + str(mse_good))\n",
    "elif fico_check >= 739 and fico_check < 800:\n",
    "    print(\"Your rating is \" + str(mse_very_good))\n",
    "else:\n",
    "    print(\"Your rating is \" + str(mse_excellent))"
   ]
  }
 ],
 "metadata": {
  "kernelspec": {
   "display_name": "Python 3 (ipykernel)",
   "language": "python",
   "name": "python3"
  },
  "language_info": {
   "codemirror_mode": {
    "name": "ipython",
    "version": 3
   },
   "file_extension": ".py",
   "mimetype": "text/x-python",
   "name": "python",
   "nbconvert_exporter": "python",
   "pygments_lexer": "ipython3",
   "version": "3.13.5"
  }
 },
 "nbformat": 4,
 "nbformat_minor": 5
}
